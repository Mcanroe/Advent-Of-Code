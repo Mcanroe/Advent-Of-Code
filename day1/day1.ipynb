{
 "cells": [
  {
   "cell_type": "markdown",
   "metadata": {},
   "source": [
    "# Day 1 of Advent of Code"
   ]
  },
  {
   "cell_type": "code",
   "execution_count": 3,
   "metadata": {},
   "outputs": [],
   "source": [
    "import pandas as pd"
   ]
  },
  {
   "cell_type": "code",
   "execution_count": 4,
   "metadata": {},
   "outputs": [],
   "source": [
    "puzzle_df = pd.read_csv(\"day1_part1_src.csv\",sep='\\s+',header=0)"
   ]
  },
  {
   "cell_type": "code",
   "execution_count": 5,
   "metadata": {},
   "outputs": [],
   "source": [
    "sorted_a = puzzle_df['a'].sort_values()\n",
    "sorted_b = puzzle_df['b'].sort_values()\n",
    "sorted_a = sorted_a.reset_index(drop=True)\n",
    "sorted_b = sorted_b.reset_index(drop=True)"
   ]
  },
  {
   "cell_type": "code",
   "execution_count": 6,
   "metadata": {},
   "outputs": [
    {
     "name": "stdout",
     "output_type": "stream",
     "text": [
      "2344935\n"
     ]
    }
   ],
   "source": [
    "diff_ab = abs(sorted_a - sorted_b)\n",
    "# add all elements of diff_ab\n",
    "total_diff = diff_ab.sum()\n",
    "print(total_diff)"
   ]
  },
  {
   "cell_type": "markdown",
   "metadata": {},
   "source": [
    "### Part 2"
   ]
  },
  {
   "cell_type": "code",
   "execution_count": 28,
   "metadata": {},
   "outputs": [
    {
     "name": "stdout",
     "output_type": "stream",
     "text": [
      "27647262\n"
     ]
    }
   ],
   "source": [
    "tot_count = 0\n",
    "# a = pd.Series([1,2,3,4,5])\n",
    "# b = pd.Series([2,2,3,3,4,5,5,5])\n",
    "# answer should be 1*0 + 2*2 + 3*2 + 4*1 + 5*3 = 29\n",
    "\n",
    "for i in sorted_a.values:\n",
    "    count = 0\n",
    "    for j in sorted_b.values:\n",
    "        if i==j:\n",
    "            #print(i,j)\n",
    "            count = count + 1          \n",
    "    tot_count = tot_count + (i * count)\n",
    "\n",
    "print(tot_count)"
   ]
  }
 ],
 "metadata": {
  "kernelspec": {
   "display_name": ".venv",
   "language": "python",
   "name": "python3"
  },
  "language_info": {
   "codemirror_mode": {
    "name": "ipython",
    "version": 3
   },
   "file_extension": ".py",
   "mimetype": "text/x-python",
   "name": "python",
   "nbconvert_exporter": "python",
   "pygments_lexer": "ipython3",
   "version": "3.11.9"
  }
 },
 "nbformat": 4,
 "nbformat_minor": 2
}
