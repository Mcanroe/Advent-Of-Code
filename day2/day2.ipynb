{
 "cells": [
  {
   "cell_type": "markdown",
   "metadata": {},
   "source": [
    "## Day 2 Of Advent of Code"
   ]
  },
  {
   "cell_type": "code",
   "execution_count": 61,
   "metadata": {},
   "outputs": [
    {
     "name": "stdout",
     "output_type": "stream",
     "text": [
      "   col1  col2  col3  col4  col5  col6  col7  col8\n",
      "0    67    69    70    71    72  75.0  74.0   NaN\n",
      "1    20    21    24    26    28  28.0   NaN   NaN\n",
      "2    43    45    48    50    53  57.0   NaN   NaN\n",
      "3    54    55    57    60    62  67.0   NaN   NaN\n",
      "4    23    26    24    27    28   NaN   NaN   NaN\n"
     ]
    }
   ],
   "source": [
    "import pandas as pd\n",
    "\n",
    "df = pd.read_csv('day2_part1_src.txt',sep='\\s+',names=['col1', 'col2', 'col3', 'col4', 'col5', 'col6', 'col7','col8'])  \n",
    "print(df.head())  "
   ]
  },
  {
   "cell_type": "code",
   "execution_count": 62,
   "metadata": {},
   "outputs": [],
   "source": [
    "def check_order(row):\n",
    "    row_filt = [x for x in row if not pd.isnull(x)]  # jank way to ignore isNaN values when computing\n",
    "    if row_filt == sorted(row_filt) or row_filt == sorted(row_filt, reverse=True): \n",
    "        for i in range(len(row_filt) - 1):\n",
    "            diff = abs(row_filt[i] - row_filt[i+1])\n",
    "            if diff < 1 or diff > 3:\n",
    "                return \"unsafe\"\n",
    "        return \"safe\"\n",
    "    else:\n",
    "        return \"unsafe\""
   ]
  },
  {
   "cell_type": "code",
   "execution_count": 63,
   "metadata": {},
   "outputs": [
    {
     "name": "stdout",
     "output_type": "stream",
     "text": [
      "242\n"
     ]
    }
   ],
   "source": [
    "df['safety'] = df.apply(lambda row:check_order(row),axis = 1)\n",
    "safe_count = (df['safety'] == 'safe').sum()\n",
    "print(safe_count)"
   ]
  }
 ],
 "metadata": {
  "language_info": {
   "name": "python"
  }
 },
 "nbformat": 4,
 "nbformat_minor": 2
}
