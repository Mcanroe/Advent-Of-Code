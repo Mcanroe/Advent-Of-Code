{
 "cells": [
  {
   "cell_type": "markdown",
   "metadata": {},
   "source": [
    "## Day 2 Of Advent of Code"
   ]
  },
  {
   "cell_type": "code",
   "execution_count": 80,
   "metadata": {},
   "outputs": [
    {
     "name": "stdout",
     "output_type": "stream",
     "text": [
      "   col1  col2  col3  col4  col5  col6  col7  col8\n",
      "0    67    69    70    71    72  75.0  74.0   NaN\n",
      "1    20    21    24    26    28  28.0   NaN   NaN\n",
      "2    43    45    48    50    53  57.0   NaN   NaN\n",
      "3    54    55    57    60    62  67.0   NaN   NaN\n",
      "4    23    26    24    27    28   NaN   NaN   NaN\n"
     ]
    }
   ],
   "source": [
    "import pandas as pd\n",
    "\n",
    "df = pd.read_csv(\n",
    "    \"day2_part1_src.txt\",\n",
    "    sep=\"\\s+\",\n",
    "    names=[\"col1\", \"col2\", \"col3\", \"col4\", \"col5\", \"col6\", \"col7\", \"col8\"],\n",
    ")\n",
    "df2 = df.copy()\n",
    "print(df.head())"
   ]
  },
  {
   "cell_type": "code",
   "execution_count": 81,
   "metadata": {},
   "outputs": [],
   "source": [
    "def check_order(row):\n",
    "    row_filt = [\n",
    "        x for x in row if not pd.isnull(x)\n",
    "    ]  # jank way to ignore isNaN values when computing\n",
    "    if row_filt == sorted(row_filt) or row_filt == sorted(row_filt, reverse=True):\n",
    "        for i in range(len(row_filt) - 1):\n",
    "            diff = abs(row_filt[i] - row_filt[i + 1])\n",
    "            if diff < 1 or diff > 3:\n",
    "                return \"unsafe\"\n",
    "        return \"safe\"\n",
    "    else:\n",
    "        return \"unsafe\""
   ]
  },
  {
   "cell_type": "code",
   "execution_count": 82,
   "metadata": {},
   "outputs": [
    {
     "name": "stdout",
     "output_type": "stream",
     "text": [
      "242\n"
     ]
    }
   ],
   "source": [
    "df[\"safety\"] = df.apply(lambda row: check_order(row), axis=1)\n",
    "safe_count = (df[\"safety\"] == \"safe\").sum()\n",
    "print(safe_count)"
   ]
  },
  {
   "cell_type": "markdown",
   "metadata": {},
   "source": [
    "### Part 2"
   ]
  },
  {
   "cell_type": "code",
   "execution_count": null,
   "metadata": {},
   "outputs": [],
   "source": [
    "def main_check(row):\n",
    "    row_filt = [x for x in row if not pd.isnull(x)]\n",
    "    if (\n",
    "        check_order_v2(row_filt) == \"safe\"\n",
    "    ):  # ignore all the rows that already fit the criteria\n",
    "        return \"safe\"\n",
    "    else:\n",
    "        for j in range(len(row_filt)):\n",
    "            new_list = (\n",
    "                row_filt[:j] + row_filt[j + 1 :]\n",
    "            )  # try each permutation of removing one column\n",
    "            if check_order_v2(new_list) == \"unsafe\":\n",
    "                continue\n",
    "            elif check_order_v2(new_list) == \"safe\":\n",
    "                return \"safe\"\n",
    "            return \"unsafe\"\n",
    "\n",
    "\n",
    "def check_order_v2(row):\n",
    "    if row == sorted(row) or row == sorted(row, reverse=True):\n",
    "        for i in range(len(row) - 1):\n",
    "            diff = abs(row[i] - row[i + 1])\n",
    "            if diff < 1 or diff > 3:\n",
    "                return \"unsafe\"\n",
    "        return \"safe\"\n",
    "    else:\n",
    "        return \"unsafe\""
   ]
  },
  {
   "cell_type": "code",
   "execution_count": 84,
   "metadata": {},
   "outputs": [
    {
     "name": "stdout",
     "output_type": "stream",
     "text": [
      "311\n"
     ]
    }
   ],
   "source": [
    "df2[\"safety\"] = df2.apply(lambda row: main_check(row), axis=1)\n",
    "safe_count_v2 = (df2[\"safety\"] == \"safe\").sum()\n",
    "print(safe_count_v2)"
   ]
  },
  {
   "cell_type": "code",
   "execution_count": 87,
   "metadata": {},
   "outputs": [
    {
     "name": "stdout",
     "output_type": "stream",
     "text": [
      "[3, 2, 4, 5]\n",
      "[1, 2, 4, 5]\n",
      "[1, 3, 4, 5]\n",
      "[1, 3, 2, 5]\n",
      "[1, 3, 2, 4]\n"
     ]
    }
   ],
   "source": [
    "# Troubleshooting logic for part 2\n",
    "# list1 = [1,2,3,3,5,7]\n",
    "# for i in range(len(list1)):\n",
    "#     print(list1[:i] + list1[i+1:])\n",
    "\n",
    "list2 = [1, 3, 2, 4, 5]\n",
    "for i in range(len(list2)):\n",
    "    print(list2[:i] + list2[i + 1 :])"
   ]
  }
 ],
 "metadata": {
  "kernelspec": {
   "display_name": ".venv",
   "language": "python",
   "name": "python3"
  },
  "language_info": {
   "codemirror_mode": {
    "name": "ipython",
    "version": 3
   },
   "file_extension": ".py",
   "mimetype": "text/x-python",
   "name": "python",
   "nbconvert_exporter": "python",
   "pygments_lexer": "ipython3",
   "version": "3.11.9"
  }
 },
 "nbformat": 4,
 "nbformat_minor": 2
}
